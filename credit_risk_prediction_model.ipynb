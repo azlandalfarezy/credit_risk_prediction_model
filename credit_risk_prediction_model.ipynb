{
 "cells": [
  {
   "cell_type": "code",
   "execution_count": 1,
   "id": "f5bf8779",
   "metadata": {},
   "outputs": [],
   "source": [
    "import pandas as pd\n",
    "import numpy as np\n",
    "import matplotlib.pyplot as plt\n",
    "import seaborn as sns\n",
    "\n",
    "from sklearn.model_selection import train_test_split\n",
    "from sklearn.impute import SimpleImputer\n",
    "from sklearn.preprocessing import OneHotEncoder, LabelEncoder, StandardScaler\n",
    "\n",
    "from sklearn.tree import DecisionTreeClassifier\n",
    "from sklearn.linear_model import LogisticRegression\n",
    "from sklearn.metrics import accuracy_score, f1_score, precision_score, recall_score\n",
    "\n",
    "import warnings\n",
    "warnings.filterwarnings('ignore')"
   ]
  },
  {
   "cell_type": "code",
   "execution_count": 2,
   "id": "24cb18b7",
   "metadata": {},
   "outputs": [
    {
     "data": {
      "text/html": [
       "<div>\n",
       "<style scoped>\n",
       "    .dataframe tbody tr th:only-of-type {\n",
       "        vertical-align: middle;\n",
       "    }\n",
       "\n",
       "    .dataframe tbody tr th {\n",
       "        vertical-align: top;\n",
       "    }\n",
       "\n",
       "    .dataframe thead th {\n",
       "        text-align: right;\n",
       "    }\n",
       "</style>\n",
       "<table border=\"1\" class=\"dataframe\">\n",
       "  <thead>\n",
       "    <tr style=\"text-align: right;\">\n",
       "      <th></th>\n",
       "      <th>Unnamed: 0</th>\n",
       "      <th>id</th>\n",
       "      <th>member_id</th>\n",
       "      <th>loan_amnt</th>\n",
       "      <th>funded_amnt</th>\n",
       "      <th>funded_amnt_inv</th>\n",
       "      <th>term</th>\n",
       "      <th>int_rate</th>\n",
       "      <th>installment</th>\n",
       "      <th>grade</th>\n",
       "      <th>...</th>\n",
       "      <th>total_bal_il</th>\n",
       "      <th>il_util</th>\n",
       "      <th>open_rv_12m</th>\n",
       "      <th>open_rv_24m</th>\n",
       "      <th>max_bal_bc</th>\n",
       "      <th>all_util</th>\n",
       "      <th>total_rev_hi_lim</th>\n",
       "      <th>inq_fi</th>\n",
       "      <th>total_cu_tl</th>\n",
       "      <th>inq_last_12m</th>\n",
       "    </tr>\n",
       "  </thead>\n",
       "  <tbody>\n",
       "    <tr>\n",
       "      <th>0</th>\n",
       "      <td>0</td>\n",
       "      <td>1077501</td>\n",
       "      <td>1296599</td>\n",
       "      <td>5000</td>\n",
       "      <td>5000</td>\n",
       "      <td>4975.0</td>\n",
       "      <td>36 months</td>\n",
       "      <td>10.65</td>\n",
       "      <td>162.87</td>\n",
       "      <td>B</td>\n",
       "      <td>...</td>\n",
       "      <td>NaN</td>\n",
       "      <td>NaN</td>\n",
       "      <td>NaN</td>\n",
       "      <td>NaN</td>\n",
       "      <td>NaN</td>\n",
       "      <td>NaN</td>\n",
       "      <td>NaN</td>\n",
       "      <td>NaN</td>\n",
       "      <td>NaN</td>\n",
       "      <td>NaN</td>\n",
       "    </tr>\n",
       "    <tr>\n",
       "      <th>1</th>\n",
       "      <td>1</td>\n",
       "      <td>1077430</td>\n",
       "      <td>1314167</td>\n",
       "      <td>2500</td>\n",
       "      <td>2500</td>\n",
       "      <td>2500.0</td>\n",
       "      <td>60 months</td>\n",
       "      <td>15.27</td>\n",
       "      <td>59.83</td>\n",
       "      <td>C</td>\n",
       "      <td>...</td>\n",
       "      <td>NaN</td>\n",
       "      <td>NaN</td>\n",
       "      <td>NaN</td>\n",
       "      <td>NaN</td>\n",
       "      <td>NaN</td>\n",
       "      <td>NaN</td>\n",
       "      <td>NaN</td>\n",
       "      <td>NaN</td>\n",
       "      <td>NaN</td>\n",
       "      <td>NaN</td>\n",
       "    </tr>\n",
       "    <tr>\n",
       "      <th>2</th>\n",
       "      <td>2</td>\n",
       "      <td>1077175</td>\n",
       "      <td>1313524</td>\n",
       "      <td>2400</td>\n",
       "      <td>2400</td>\n",
       "      <td>2400.0</td>\n",
       "      <td>36 months</td>\n",
       "      <td>15.96</td>\n",
       "      <td>84.33</td>\n",
       "      <td>C</td>\n",
       "      <td>...</td>\n",
       "      <td>NaN</td>\n",
       "      <td>NaN</td>\n",
       "      <td>NaN</td>\n",
       "      <td>NaN</td>\n",
       "      <td>NaN</td>\n",
       "      <td>NaN</td>\n",
       "      <td>NaN</td>\n",
       "      <td>NaN</td>\n",
       "      <td>NaN</td>\n",
       "      <td>NaN</td>\n",
       "    </tr>\n",
       "    <tr>\n",
       "      <th>3</th>\n",
       "      <td>3</td>\n",
       "      <td>1076863</td>\n",
       "      <td>1277178</td>\n",
       "      <td>10000</td>\n",
       "      <td>10000</td>\n",
       "      <td>10000.0</td>\n",
       "      <td>36 months</td>\n",
       "      <td>13.49</td>\n",
       "      <td>339.31</td>\n",
       "      <td>C</td>\n",
       "      <td>...</td>\n",
       "      <td>NaN</td>\n",
       "      <td>NaN</td>\n",
       "      <td>NaN</td>\n",
       "      <td>NaN</td>\n",
       "      <td>NaN</td>\n",
       "      <td>NaN</td>\n",
       "      <td>NaN</td>\n",
       "      <td>NaN</td>\n",
       "      <td>NaN</td>\n",
       "      <td>NaN</td>\n",
       "    </tr>\n",
       "    <tr>\n",
       "      <th>4</th>\n",
       "      <td>4</td>\n",
       "      <td>1075358</td>\n",
       "      <td>1311748</td>\n",
       "      <td>3000</td>\n",
       "      <td>3000</td>\n",
       "      <td>3000.0</td>\n",
       "      <td>60 months</td>\n",
       "      <td>12.69</td>\n",
       "      <td>67.79</td>\n",
       "      <td>B</td>\n",
       "      <td>...</td>\n",
       "      <td>NaN</td>\n",
       "      <td>NaN</td>\n",
       "      <td>NaN</td>\n",
       "      <td>NaN</td>\n",
       "      <td>NaN</td>\n",
       "      <td>NaN</td>\n",
       "      <td>NaN</td>\n",
       "      <td>NaN</td>\n",
       "      <td>NaN</td>\n",
       "      <td>NaN</td>\n",
       "    </tr>\n",
       "  </tbody>\n",
       "</table>\n",
       "<p>5 rows × 75 columns</p>\n",
       "</div>"
      ],
      "text/plain": [
       "   Unnamed: 0       id  member_id  loan_amnt  funded_amnt  funded_amnt_inv   \n",
       "0           0  1077501    1296599       5000         5000           4975.0  \\\n",
       "1           1  1077430    1314167       2500         2500           2500.0   \n",
       "2           2  1077175    1313524       2400         2400           2400.0   \n",
       "3           3  1076863    1277178      10000        10000          10000.0   \n",
       "4           4  1075358    1311748       3000         3000           3000.0   \n",
       "\n",
       "         term  int_rate  installment grade  ... total_bal_il il_util   \n",
       "0   36 months     10.65       162.87     B  ...          NaN     NaN  \\\n",
       "1   60 months     15.27        59.83     C  ...          NaN     NaN   \n",
       "2   36 months     15.96        84.33     C  ...          NaN     NaN   \n",
       "3   36 months     13.49       339.31     C  ...          NaN     NaN   \n",
       "4   60 months     12.69        67.79     B  ...          NaN     NaN   \n",
       "\n",
       "  open_rv_12m open_rv_24m  max_bal_bc all_util total_rev_hi_lim inq_fi   \n",
       "0         NaN         NaN         NaN      NaN              NaN    NaN  \\\n",
       "1         NaN         NaN         NaN      NaN              NaN    NaN   \n",
       "2         NaN         NaN         NaN      NaN              NaN    NaN   \n",
       "3         NaN         NaN         NaN      NaN              NaN    NaN   \n",
       "4         NaN         NaN         NaN      NaN              NaN    NaN   \n",
       "\n",
       "  total_cu_tl inq_last_12m  \n",
       "0         NaN          NaN  \n",
       "1         NaN          NaN  \n",
       "2         NaN          NaN  \n",
       "3         NaN          NaN  \n",
       "4         NaN          NaN  \n",
       "\n",
       "[5 rows x 75 columns]"
      ]
     },
     "execution_count": 2,
     "metadata": {},
     "output_type": "execute_result"
    }
   ],
   "source": [
    "lc = pd.read_csv('loan_data_2007_2014.csv')\n",
    "lc.head()"
   ]
  },
  {
   "cell_type": "code",
   "execution_count": 3,
   "id": "69b8dc0a",
   "metadata": {},
   "outputs": [
    {
     "data": {
      "text/plain": [
       "(466285, 75)"
      ]
     },
     "execution_count": 3,
     "metadata": {},
     "output_type": "execute_result"
    }
   ],
   "source": [
    "lc.shape"
   ]
  },
  {
   "cell_type": "code",
   "execution_count": 4,
   "id": "ca4efca4",
   "metadata": {},
   "outputs": [
    {
     "data": {
      "text/plain": [
       "0"
      ]
     },
     "execution_count": 4,
     "metadata": {},
     "output_type": "execute_result"
    }
   ],
   "source": [
    "# check if there any duplicated columns\n",
    "lc.duplicated().sum()"
   ]
  },
  {
   "cell_type": "code",
   "execution_count": 5,
   "id": "66733943",
   "metadata": {},
   "outputs": [],
   "source": [
    "# no need to remove duplicated columns"
   ]
  },
  {
   "cell_type": "code",
   "execution_count": 6,
   "id": "7ddb0460",
   "metadata": {},
   "outputs": [
    {
     "data": {
      "text/plain": [
       "inq_last_12m                   100.000000\n",
       "total_bal_il                   100.000000\n",
       "dti_joint                      100.000000\n",
       "verification_status_joint      100.000000\n",
       "annual_inc_joint               100.000000\n",
       "open_acc_6m                    100.000000\n",
       "open_il_6m                     100.000000\n",
       "open_il_12m                    100.000000\n",
       "open_il_24m                    100.000000\n",
       "mths_since_rcnt_il             100.000000\n",
       "il_util                        100.000000\n",
       "open_rv_24m                    100.000000\n",
       "total_cu_tl                    100.000000\n",
       "inq_fi                         100.000000\n",
       "max_bal_bc                     100.000000\n",
       "all_util                       100.000000\n",
       "open_rv_12m                    100.000000\n",
       "mths_since_last_record          86.566585\n",
       "mths_since_last_major_derog     78.773926\n",
       "desc                            72.981975\n",
       "mths_since_last_delinq          53.690554\n",
       "next_pymnt_d                    48.728567\n",
       "tot_cur_bal                     15.071469\n",
       "tot_coll_amt                    15.071469\n",
       "total_rev_hi_lim                15.071469\n",
       "emp_title                        5.916553\n",
       "emp_length                       4.505399\n",
       "last_pymnt_d                     0.080637\n",
       "revol_util                       0.072917\n",
       "collections_12_mths_ex_med       0.031097\n",
       "last_credit_pull_d               0.009007\n",
       "inq_last_6mths                   0.006219\n",
       "earliest_cr_line                 0.006219\n",
       "delinq_2yrs                      0.006219\n",
       "open_acc                         0.006219\n",
       "pub_rec                          0.006219\n",
       "acc_now_delinq                   0.006219\n",
       "total_acc                        0.006219\n",
       "title                            0.004504\n",
       "annual_inc                       0.000858\n",
       "dtype: float64"
      ]
     },
     "execution_count": 6,
     "metadata": {},
     "output_type": "execute_result"
    }
   ],
   "source": [
    "# check the missing values in our dataset\n",
    "missing = lc.isnull().sum()/lc.shape[0]*100\n",
    "missing = missing.sort_values(ascending=False)\n",
    "missing[missing>0]"
   ]
  },
  {
   "cell_type": "code",
   "execution_count": 7,
   "id": "2b4e2250",
   "metadata": {},
   "outputs": [
    {
     "data": {
      "text/plain": [
       "(466285, 53)"
      ]
     },
     "execution_count": 7,
     "metadata": {},
     "output_type": "execute_result"
    }
   ],
   "source": [
    "# remove columns whose missing values more than 40%\n",
    "lc.dropna(thresh=lc.shape[0]*0.6, axis=1, inplace=True)\n",
    "lc.shape"
   ]
  },
  {
   "cell_type": "code",
   "execution_count": 8,
   "id": "eda07856",
   "metadata": {},
   "outputs": [],
   "source": [
    "# divide into categorical and numerical column for more data exploration\n",
    "lc_cat = lc.select_dtypes(include=['object']).columns\n",
    "lc_num = lc.select_dtypes(include=['float64','int64']).columns"
   ]
  },
  {
   "cell_type": "code",
   "execution_count": 9,
   "id": "18cd3460",
   "metadata": {},
   "outputs": [
    {
     "data": {
      "text/html": [
       "<div>\n",
       "<style scoped>\n",
       "    .dataframe tbody tr th:only-of-type {\n",
       "        vertical-align: middle;\n",
       "    }\n",
       "\n",
       "    .dataframe tbody tr th {\n",
       "        vertical-align: top;\n",
       "    }\n",
       "\n",
       "    .dataframe thead th {\n",
       "        text-align: right;\n",
       "    }\n",
       "</style>\n",
       "<table border=\"1\" class=\"dataframe\">\n",
       "  <thead>\n",
       "    <tr style=\"text-align: right;\">\n",
       "      <th></th>\n",
       "      <th>count</th>\n",
       "      <th>unique</th>\n",
       "      <th>top</th>\n",
       "      <th>freq</th>\n",
       "    </tr>\n",
       "  </thead>\n",
       "  <tbody>\n",
       "    <tr>\n",
       "      <th>term</th>\n",
       "      <td>466285</td>\n",
       "      <td>2</td>\n",
       "      <td>36 months</td>\n",
       "      <td>337953</td>\n",
       "    </tr>\n",
       "    <tr>\n",
       "      <th>grade</th>\n",
       "      <td>466285</td>\n",
       "      <td>7</td>\n",
       "      <td>B</td>\n",
       "      <td>136929</td>\n",
       "    </tr>\n",
       "    <tr>\n",
       "      <th>sub_grade</th>\n",
       "      <td>466285</td>\n",
       "      <td>35</td>\n",
       "      <td>B3</td>\n",
       "      <td>31686</td>\n",
       "    </tr>\n",
       "    <tr>\n",
       "      <th>emp_title</th>\n",
       "      <td>438697</td>\n",
       "      <td>205475</td>\n",
       "      <td>Teacher</td>\n",
       "      <td>5399</td>\n",
       "    </tr>\n",
       "    <tr>\n",
       "      <th>emp_length</th>\n",
       "      <td>445277</td>\n",
       "      <td>11</td>\n",
       "      <td>10+ years</td>\n",
       "      <td>150049</td>\n",
       "    </tr>\n",
       "    <tr>\n",
       "      <th>home_ownership</th>\n",
       "      <td>466285</td>\n",
       "      <td>6</td>\n",
       "      <td>MORTGAGE</td>\n",
       "      <td>235875</td>\n",
       "    </tr>\n",
       "    <tr>\n",
       "      <th>verification_status</th>\n",
       "      <td>466285</td>\n",
       "      <td>3</td>\n",
       "      <td>Verified</td>\n",
       "      <td>168055</td>\n",
       "    </tr>\n",
       "    <tr>\n",
       "      <th>issue_d</th>\n",
       "      <td>466285</td>\n",
       "      <td>91</td>\n",
       "      <td>Oct-14</td>\n",
       "      <td>38782</td>\n",
       "    </tr>\n",
       "    <tr>\n",
       "      <th>loan_status</th>\n",
       "      <td>466285</td>\n",
       "      <td>9</td>\n",
       "      <td>Current</td>\n",
       "      <td>224226</td>\n",
       "    </tr>\n",
       "    <tr>\n",
       "      <th>pymnt_plan</th>\n",
       "      <td>466285</td>\n",
       "      <td>2</td>\n",
       "      <td>n</td>\n",
       "      <td>466276</td>\n",
       "    </tr>\n",
       "    <tr>\n",
       "      <th>url</th>\n",
       "      <td>466285</td>\n",
       "      <td>466285</td>\n",
       "      <td>https://www.lendingclub.com/browse/loanDetail....</td>\n",
       "      <td>1</td>\n",
       "    </tr>\n",
       "    <tr>\n",
       "      <th>purpose</th>\n",
       "      <td>466285</td>\n",
       "      <td>14</td>\n",
       "      <td>debt_consolidation</td>\n",
       "      <td>274195</td>\n",
       "    </tr>\n",
       "    <tr>\n",
       "      <th>title</th>\n",
       "      <td>466264</td>\n",
       "      <td>63098</td>\n",
       "      <td>Debt consolidation</td>\n",
       "      <td>164075</td>\n",
       "    </tr>\n",
       "    <tr>\n",
       "      <th>zip_code</th>\n",
       "      <td>466285</td>\n",
       "      <td>888</td>\n",
       "      <td>945xx</td>\n",
       "      <td>5304</td>\n",
       "    </tr>\n",
       "    <tr>\n",
       "      <th>addr_state</th>\n",
       "      <td>466285</td>\n",
       "      <td>50</td>\n",
       "      <td>CA</td>\n",
       "      <td>71450</td>\n",
       "    </tr>\n",
       "    <tr>\n",
       "      <th>earliest_cr_line</th>\n",
       "      <td>466256</td>\n",
       "      <td>664</td>\n",
       "      <td>Oct-00</td>\n",
       "      <td>3674</td>\n",
       "    </tr>\n",
       "    <tr>\n",
       "      <th>initial_list_status</th>\n",
       "      <td>466285</td>\n",
       "      <td>2</td>\n",
       "      <td>f</td>\n",
       "      <td>303005</td>\n",
       "    </tr>\n",
       "    <tr>\n",
       "      <th>last_pymnt_d</th>\n",
       "      <td>465909</td>\n",
       "      <td>98</td>\n",
       "      <td>Jan-16</td>\n",
       "      <td>179620</td>\n",
       "    </tr>\n",
       "    <tr>\n",
       "      <th>last_credit_pull_d</th>\n",
       "      <td>466243</td>\n",
       "      <td>103</td>\n",
       "      <td>Jan-16</td>\n",
       "      <td>327699</td>\n",
       "    </tr>\n",
       "    <tr>\n",
       "      <th>application_type</th>\n",
       "      <td>466285</td>\n",
       "      <td>1</td>\n",
       "      <td>INDIVIDUAL</td>\n",
       "      <td>466285</td>\n",
       "    </tr>\n",
       "  </tbody>\n",
       "</table>\n",
       "</div>"
      ],
      "text/plain": [
       "                      count  unique   \n",
       "term                 466285       2  \\\n",
       "grade                466285       7   \n",
       "sub_grade            466285      35   \n",
       "emp_title            438697  205475   \n",
       "emp_length           445277      11   \n",
       "home_ownership       466285       6   \n",
       "verification_status  466285       3   \n",
       "issue_d              466285      91   \n",
       "loan_status          466285       9   \n",
       "pymnt_plan           466285       2   \n",
       "url                  466285  466285   \n",
       "purpose              466285      14   \n",
       "title                466264   63098   \n",
       "zip_code             466285     888   \n",
       "addr_state           466285      50   \n",
       "earliest_cr_line     466256     664   \n",
       "initial_list_status  466285       2   \n",
       "last_pymnt_d         465909      98   \n",
       "last_credit_pull_d   466243     103   \n",
       "application_type     466285       1   \n",
       "\n",
       "                                                                   top    freq  \n",
       "term                                                         36 months  337953  \n",
       "grade                                                                B  136929  \n",
       "sub_grade                                                           B3   31686  \n",
       "emp_title                                                      Teacher    5399  \n",
       "emp_length                                                   10+ years  150049  \n",
       "home_ownership                                                MORTGAGE  235875  \n",
       "verification_status                                           Verified  168055  \n",
       "issue_d                                                         Oct-14   38782  \n",
       "loan_status                                                    Current  224226  \n",
       "pymnt_plan                                                           n  466276  \n",
       "url                  https://www.lendingclub.com/browse/loanDetail....       1  \n",
       "purpose                                             debt_consolidation  274195  \n",
       "title                                               Debt consolidation  164075  \n",
       "zip_code                                                         945xx    5304  \n",
       "addr_state                                                          CA   71450  \n",
       "earliest_cr_line                                                Oct-00    3674  \n",
       "initial_list_status                                                  f  303005  \n",
       "last_pymnt_d                                                    Jan-16  179620  \n",
       "last_credit_pull_d                                              Jan-16  327699  \n",
       "application_type                                            INDIVIDUAL  466285  "
      ]
     },
     "execution_count": 9,
     "metadata": {},
     "output_type": "execute_result"
    }
   ],
   "source": [
    "# explore categorical columns\n",
    "lc[lc_cat].describe().T"
   ]
  },
  {
   "cell_type": "code",
   "execution_count": 10,
   "id": "895f4ecc",
   "metadata": {},
   "outputs": [
    {
     "data": {
      "text/plain": [
       "(466285, 43)"
      ]
     },
     "execution_count": 10,
     "metadata": {},
     "output_type": "execute_result"
    }
   ],
   "source": [
    "# remove columns whose too many unique values\n",
    "lc.drop(['emp_title','url','title','zip_code'], axis=1, inplace=True)\n",
    "\n",
    "# remove columns whose only 1 unique value\n",
    "lc.drop('application_type', axis=1, inplace=True)\n",
    "\n",
    "# remove columns whose particular value that is dominant\n",
    "lc.drop('pymnt_plan', axis=1, inplace=True)\n",
    "\n",
    "# remove columns which are considered useless as predictor\n",
    "lc.drop(['issue_d','earliest_cr_line','last_pymnt_d','last_credit_pull_d'], axis=1, inplace=True)\n",
    "\n",
    "lc.shape"
   ]
  },
  {
   "cell_type": "code",
   "execution_count": 11,
   "id": "ab6fdb07",
   "metadata": {},
   "outputs": [
    {
     "data": {
      "text/html": [
       "<div>\n",
       "<style scoped>\n",
       "    .dataframe tbody tr th:only-of-type {\n",
       "        vertical-align: middle;\n",
       "    }\n",
       "\n",
       "    .dataframe tbody tr th {\n",
       "        vertical-align: top;\n",
       "    }\n",
       "\n",
       "    .dataframe thead th {\n",
       "        text-align: right;\n",
       "    }\n",
       "</style>\n",
       "<table border=\"1\" class=\"dataframe\">\n",
       "  <thead>\n",
       "    <tr style=\"text-align: right;\">\n",
       "      <th></th>\n",
       "      <th>count</th>\n",
       "      <th>mean</th>\n",
       "      <th>std</th>\n",
       "      <th>min</th>\n",
       "      <th>25%</th>\n",
       "      <th>50%</th>\n",
       "      <th>75%</th>\n",
       "      <th>max</th>\n",
       "    </tr>\n",
       "  </thead>\n",
       "  <tbody>\n",
       "    <tr>\n",
       "      <th>Unnamed: 0</th>\n",
       "      <td>466285.0</td>\n",
       "      <td>2.331420e+05</td>\n",
       "      <td>1.346050e+05</td>\n",
       "      <td>0.00</td>\n",
       "      <td>1.165710e+05</td>\n",
       "      <td>2.331420e+05</td>\n",
       "      <td>3.497130e+05</td>\n",
       "      <td>4.662840e+05</td>\n",
       "    </tr>\n",
       "    <tr>\n",
       "      <th>id</th>\n",
       "      <td>466285.0</td>\n",
       "      <td>1.307973e+07</td>\n",
       "      <td>1.089371e+07</td>\n",
       "      <td>54734.00</td>\n",
       "      <td>3.639987e+06</td>\n",
       "      <td>1.010790e+07</td>\n",
       "      <td>2.073121e+07</td>\n",
       "      <td>3.809811e+07</td>\n",
       "    </tr>\n",
       "    <tr>\n",
       "      <th>member_id</th>\n",
       "      <td>466285.0</td>\n",
       "      <td>1.459766e+07</td>\n",
       "      <td>1.168237e+07</td>\n",
       "      <td>70473.00</td>\n",
       "      <td>4.379705e+06</td>\n",
       "      <td>1.194108e+07</td>\n",
       "      <td>2.300154e+07</td>\n",
       "      <td>4.086083e+07</td>\n",
       "    </tr>\n",
       "    <tr>\n",
       "      <th>loan_amnt</th>\n",
       "      <td>466285.0</td>\n",
       "      <td>1.431728e+04</td>\n",
       "      <td>8.286509e+03</td>\n",
       "      <td>500.00</td>\n",
       "      <td>8.000000e+03</td>\n",
       "      <td>1.200000e+04</td>\n",
       "      <td>2.000000e+04</td>\n",
       "      <td>3.500000e+04</td>\n",
       "    </tr>\n",
       "    <tr>\n",
       "      <th>funded_amnt</th>\n",
       "      <td>466285.0</td>\n",
       "      <td>1.429180e+04</td>\n",
       "      <td>8.274371e+03</td>\n",
       "      <td>500.00</td>\n",
       "      <td>8.000000e+03</td>\n",
       "      <td>1.200000e+04</td>\n",
       "      <td>2.000000e+04</td>\n",
       "      <td>3.500000e+04</td>\n",
       "    </tr>\n",
       "    <tr>\n",
       "      <th>funded_amnt_inv</th>\n",
       "      <td>466285.0</td>\n",
       "      <td>1.422233e+04</td>\n",
       "      <td>8.297638e+03</td>\n",
       "      <td>0.00</td>\n",
       "      <td>8.000000e+03</td>\n",
       "      <td>1.200000e+04</td>\n",
       "      <td>1.995000e+04</td>\n",
       "      <td>3.500000e+04</td>\n",
       "    </tr>\n",
       "    <tr>\n",
       "      <th>int_rate</th>\n",
       "      <td>466285.0</td>\n",
       "      <td>1.382924e+01</td>\n",
       "      <td>4.357587e+00</td>\n",
       "      <td>5.42</td>\n",
       "      <td>1.099000e+01</td>\n",
       "      <td>1.366000e+01</td>\n",
       "      <td>1.649000e+01</td>\n",
       "      <td>2.606000e+01</td>\n",
       "    </tr>\n",
       "    <tr>\n",
       "      <th>installment</th>\n",
       "      <td>466285.0</td>\n",
       "      <td>4.320612e+02</td>\n",
       "      <td>2.434855e+02</td>\n",
       "      <td>15.67</td>\n",
       "      <td>2.566900e+02</td>\n",
       "      <td>3.798900e+02</td>\n",
       "      <td>5.665800e+02</td>\n",
       "      <td>1.409990e+03</td>\n",
       "    </tr>\n",
       "    <tr>\n",
       "      <th>annual_inc</th>\n",
       "      <td>466281.0</td>\n",
       "      <td>7.327738e+04</td>\n",
       "      <td>5.496357e+04</td>\n",
       "      <td>1896.00</td>\n",
       "      <td>4.500000e+04</td>\n",
       "      <td>6.300000e+04</td>\n",
       "      <td>8.896000e+04</td>\n",
       "      <td>7.500000e+06</td>\n",
       "    </tr>\n",
       "    <tr>\n",
       "      <th>dti</th>\n",
       "      <td>466285.0</td>\n",
       "      <td>1.721876e+01</td>\n",
       "      <td>7.851121e+00</td>\n",
       "      <td>0.00</td>\n",
       "      <td>1.136000e+01</td>\n",
       "      <td>1.687000e+01</td>\n",
       "      <td>2.278000e+01</td>\n",
       "      <td>3.999000e+01</td>\n",
       "    </tr>\n",
       "    <tr>\n",
       "      <th>delinq_2yrs</th>\n",
       "      <td>466256.0</td>\n",
       "      <td>2.846784e-01</td>\n",
       "      <td>7.973651e-01</td>\n",
       "      <td>0.00</td>\n",
       "      <td>0.000000e+00</td>\n",
       "      <td>0.000000e+00</td>\n",
       "      <td>0.000000e+00</td>\n",
       "      <td>2.900000e+01</td>\n",
       "    </tr>\n",
       "    <tr>\n",
       "      <th>inq_last_6mths</th>\n",
       "      <td>466256.0</td>\n",
       "      <td>8.047446e-01</td>\n",
       "      <td>1.091598e+00</td>\n",
       "      <td>0.00</td>\n",
       "      <td>0.000000e+00</td>\n",
       "      <td>0.000000e+00</td>\n",
       "      <td>1.000000e+00</td>\n",
       "      <td>3.300000e+01</td>\n",
       "    </tr>\n",
       "    <tr>\n",
       "      <th>open_acc</th>\n",
       "      <td>466256.0</td>\n",
       "      <td>1.118707e+01</td>\n",
       "      <td>4.987526e+00</td>\n",
       "      <td>0.00</td>\n",
       "      <td>8.000000e+00</td>\n",
       "      <td>1.000000e+01</td>\n",
       "      <td>1.400000e+01</td>\n",
       "      <td>8.400000e+01</td>\n",
       "    </tr>\n",
       "    <tr>\n",
       "      <th>pub_rec</th>\n",
       "      <td>466256.0</td>\n",
       "      <td>1.605642e-01</td>\n",
       "      <td>5.108626e-01</td>\n",
       "      <td>0.00</td>\n",
       "      <td>0.000000e+00</td>\n",
       "      <td>0.000000e+00</td>\n",
       "      <td>0.000000e+00</td>\n",
       "      <td>6.300000e+01</td>\n",
       "    </tr>\n",
       "    <tr>\n",
       "      <th>revol_bal</th>\n",
       "      <td>466285.0</td>\n",
       "      <td>1.623020e+04</td>\n",
       "      <td>2.067625e+04</td>\n",
       "      <td>0.00</td>\n",
       "      <td>6.413000e+03</td>\n",
       "      <td>1.176400e+04</td>\n",
       "      <td>2.033300e+04</td>\n",
       "      <td>2.568995e+06</td>\n",
       "    </tr>\n",
       "    <tr>\n",
       "      <th>revol_util</th>\n",
       "      <td>465945.0</td>\n",
       "      <td>5.617695e+01</td>\n",
       "      <td>2.373263e+01</td>\n",
       "      <td>0.00</td>\n",
       "      <td>3.920000e+01</td>\n",
       "      <td>5.760000e+01</td>\n",
       "      <td>7.470000e+01</td>\n",
       "      <td>8.923000e+02</td>\n",
       "    </tr>\n",
       "    <tr>\n",
       "      <th>total_acc</th>\n",
       "      <td>466256.0</td>\n",
       "      <td>2.506443e+01</td>\n",
       "      <td>1.160014e+01</td>\n",
       "      <td>1.00</td>\n",
       "      <td>1.700000e+01</td>\n",
       "      <td>2.300000e+01</td>\n",
       "      <td>3.200000e+01</td>\n",
       "      <td>1.560000e+02</td>\n",
       "    </tr>\n",
       "    <tr>\n",
       "      <th>out_prncp</th>\n",
       "      <td>466285.0</td>\n",
       "      <td>4.410062e+03</td>\n",
       "      <td>6.355079e+03</td>\n",
       "      <td>0.00</td>\n",
       "      <td>0.000000e+00</td>\n",
       "      <td>4.414700e+02</td>\n",
       "      <td>7.341650e+03</td>\n",
       "      <td>3.216038e+04</td>\n",
       "    </tr>\n",
       "    <tr>\n",
       "      <th>out_prncp_inv</th>\n",
       "      <td>466285.0</td>\n",
       "      <td>4.408452e+03</td>\n",
       "      <td>6.353198e+03</td>\n",
       "      <td>0.00</td>\n",
       "      <td>0.000000e+00</td>\n",
       "      <td>4.413800e+02</td>\n",
       "      <td>7.338390e+03</td>\n",
       "      <td>3.216038e+04</td>\n",
       "    </tr>\n",
       "    <tr>\n",
       "      <th>total_pymnt</th>\n",
       "      <td>466285.0</td>\n",
       "      <td>1.154069e+04</td>\n",
       "      <td>8.265627e+03</td>\n",
       "      <td>0.00</td>\n",
       "      <td>5.552125e+03</td>\n",
       "      <td>9.419251e+03</td>\n",
       "      <td>1.530816e+04</td>\n",
       "      <td>5.777758e+04</td>\n",
       "    </tr>\n",
       "    <tr>\n",
       "      <th>total_pymnt_inv</th>\n",
       "      <td>466285.0</td>\n",
       "      <td>1.146989e+04</td>\n",
       "      <td>8.254158e+03</td>\n",
       "      <td>0.00</td>\n",
       "      <td>5.499250e+03</td>\n",
       "      <td>9.355430e+03</td>\n",
       "      <td>1.523131e+04</td>\n",
       "      <td>5.777758e+04</td>\n",
       "    </tr>\n",
       "    <tr>\n",
       "      <th>total_rec_prncp</th>\n",
       "      <td>466285.0</td>\n",
       "      <td>8.866015e+03</td>\n",
       "      <td>7.031688e+03</td>\n",
       "      <td>0.00</td>\n",
       "      <td>3.708560e+03</td>\n",
       "      <td>6.817760e+03</td>\n",
       "      <td>1.200000e+04</td>\n",
       "      <td>3.500003e+04</td>\n",
       "    </tr>\n",
       "    <tr>\n",
       "      <th>total_rec_int</th>\n",
       "      <td>466285.0</td>\n",
       "      <td>2.588677e+03</td>\n",
       "      <td>2.483810e+03</td>\n",
       "      <td>0.00</td>\n",
       "      <td>9.572800e+02</td>\n",
       "      <td>1.818880e+03</td>\n",
       "      <td>3.304530e+03</td>\n",
       "      <td>2.420562e+04</td>\n",
       "    </tr>\n",
       "    <tr>\n",
       "      <th>total_rec_late_fee</th>\n",
       "      <td>466285.0</td>\n",
       "      <td>6.501292e-01</td>\n",
       "      <td>5.265730e+00</td>\n",
       "      <td>0.00</td>\n",
       "      <td>0.000000e+00</td>\n",
       "      <td>0.000000e+00</td>\n",
       "      <td>0.000000e+00</td>\n",
       "      <td>3.586800e+02</td>\n",
       "    </tr>\n",
       "    <tr>\n",
       "      <th>recoveries</th>\n",
       "      <td>466285.0</td>\n",
       "      <td>8.534421e+01</td>\n",
       "      <td>5.522161e+02</td>\n",
       "      <td>0.00</td>\n",
       "      <td>0.000000e+00</td>\n",
       "      <td>0.000000e+00</td>\n",
       "      <td>0.000000e+00</td>\n",
       "      <td>3.352027e+04</td>\n",
       "    </tr>\n",
       "    <tr>\n",
       "      <th>collection_recovery_fee</th>\n",
       "      <td>466285.0</td>\n",
       "      <td>8.961534e+00</td>\n",
       "      <td>8.549144e+01</td>\n",
       "      <td>0.00</td>\n",
       "      <td>0.000000e+00</td>\n",
       "      <td>0.000000e+00</td>\n",
       "      <td>0.000000e+00</td>\n",
       "      <td>7.002190e+03</td>\n",
       "    </tr>\n",
       "    <tr>\n",
       "      <th>last_pymnt_amnt</th>\n",
       "      <td>466285.0</td>\n",
       "      <td>3.123914e+03</td>\n",
       "      <td>5.554737e+03</td>\n",
       "      <td>0.00</td>\n",
       "      <td>3.126200e+02</td>\n",
       "      <td>5.459600e+02</td>\n",
       "      <td>3.187510e+03</td>\n",
       "      <td>3.623444e+04</td>\n",
       "    </tr>\n",
       "    <tr>\n",
       "      <th>collections_12_mths_ex_med</th>\n",
       "      <td>466140.0</td>\n",
       "      <td>9.085253e-03</td>\n",
       "      <td>1.086484e-01</td>\n",
       "      <td>0.00</td>\n",
       "      <td>0.000000e+00</td>\n",
       "      <td>0.000000e+00</td>\n",
       "      <td>0.000000e+00</td>\n",
       "      <td>2.000000e+01</td>\n",
       "    </tr>\n",
       "    <tr>\n",
       "      <th>policy_code</th>\n",
       "      <td>466285.0</td>\n",
       "      <td>1.000000e+00</td>\n",
       "      <td>0.000000e+00</td>\n",
       "      <td>1.00</td>\n",
       "      <td>1.000000e+00</td>\n",
       "      <td>1.000000e+00</td>\n",
       "      <td>1.000000e+00</td>\n",
       "      <td>1.000000e+00</td>\n",
       "    </tr>\n",
       "    <tr>\n",
       "      <th>acc_now_delinq</th>\n",
       "      <td>466256.0</td>\n",
       "      <td>4.002093e-03</td>\n",
       "      <td>6.863680e-02</td>\n",
       "      <td>0.00</td>\n",
       "      <td>0.000000e+00</td>\n",
       "      <td>0.000000e+00</td>\n",
       "      <td>0.000000e+00</td>\n",
       "      <td>5.000000e+00</td>\n",
       "    </tr>\n",
       "    <tr>\n",
       "      <th>tot_coll_amt</th>\n",
       "      <td>396009.0</td>\n",
       "      <td>1.919135e+02</td>\n",
       "      <td>1.463021e+04</td>\n",
       "      <td>0.00</td>\n",
       "      <td>0.000000e+00</td>\n",
       "      <td>0.000000e+00</td>\n",
       "      <td>0.000000e+00</td>\n",
       "      <td>9.152545e+06</td>\n",
       "    </tr>\n",
       "    <tr>\n",
       "      <th>tot_cur_bal</th>\n",
       "      <td>396009.0</td>\n",
       "      <td>1.388017e+05</td>\n",
       "      <td>1.521147e+05</td>\n",
       "      <td>0.00</td>\n",
       "      <td>2.861800e+04</td>\n",
       "      <td>8.153900e+04</td>\n",
       "      <td>2.089530e+05</td>\n",
       "      <td>8.000078e+06</td>\n",
       "    </tr>\n",
       "    <tr>\n",
       "      <th>total_rev_hi_lim</th>\n",
       "      <td>396009.0</td>\n",
       "      <td>3.037909e+04</td>\n",
       "      <td>3.724713e+04</td>\n",
       "      <td>0.00</td>\n",
       "      <td>1.350000e+04</td>\n",
       "      <td>2.280000e+04</td>\n",
       "      <td>3.790000e+04</td>\n",
       "      <td>9.999999e+06</td>\n",
       "    </tr>\n",
       "  </tbody>\n",
       "</table>\n",
       "</div>"
      ],
      "text/plain": [
       "                               count          mean           std       min   \n",
       "Unnamed: 0                  466285.0  2.331420e+05  1.346050e+05      0.00  \\\n",
       "id                          466285.0  1.307973e+07  1.089371e+07  54734.00   \n",
       "member_id                   466285.0  1.459766e+07  1.168237e+07  70473.00   \n",
       "loan_amnt                   466285.0  1.431728e+04  8.286509e+03    500.00   \n",
       "funded_amnt                 466285.0  1.429180e+04  8.274371e+03    500.00   \n",
       "funded_amnt_inv             466285.0  1.422233e+04  8.297638e+03      0.00   \n",
       "int_rate                    466285.0  1.382924e+01  4.357587e+00      5.42   \n",
       "installment                 466285.0  4.320612e+02  2.434855e+02     15.67   \n",
       "annual_inc                  466281.0  7.327738e+04  5.496357e+04   1896.00   \n",
       "dti                         466285.0  1.721876e+01  7.851121e+00      0.00   \n",
       "delinq_2yrs                 466256.0  2.846784e-01  7.973651e-01      0.00   \n",
       "inq_last_6mths              466256.0  8.047446e-01  1.091598e+00      0.00   \n",
       "open_acc                    466256.0  1.118707e+01  4.987526e+00      0.00   \n",
       "pub_rec                     466256.0  1.605642e-01  5.108626e-01      0.00   \n",
       "revol_bal                   466285.0  1.623020e+04  2.067625e+04      0.00   \n",
       "revol_util                  465945.0  5.617695e+01  2.373263e+01      0.00   \n",
       "total_acc                   466256.0  2.506443e+01  1.160014e+01      1.00   \n",
       "out_prncp                   466285.0  4.410062e+03  6.355079e+03      0.00   \n",
       "out_prncp_inv               466285.0  4.408452e+03  6.353198e+03      0.00   \n",
       "total_pymnt                 466285.0  1.154069e+04  8.265627e+03      0.00   \n",
       "total_pymnt_inv             466285.0  1.146989e+04  8.254158e+03      0.00   \n",
       "total_rec_prncp             466285.0  8.866015e+03  7.031688e+03      0.00   \n",
       "total_rec_int               466285.0  2.588677e+03  2.483810e+03      0.00   \n",
       "total_rec_late_fee          466285.0  6.501292e-01  5.265730e+00      0.00   \n",
       "recoveries                  466285.0  8.534421e+01  5.522161e+02      0.00   \n",
       "collection_recovery_fee     466285.0  8.961534e+00  8.549144e+01      0.00   \n",
       "last_pymnt_amnt             466285.0  3.123914e+03  5.554737e+03      0.00   \n",
       "collections_12_mths_ex_med  466140.0  9.085253e-03  1.086484e-01      0.00   \n",
       "policy_code                 466285.0  1.000000e+00  0.000000e+00      1.00   \n",
       "acc_now_delinq              466256.0  4.002093e-03  6.863680e-02      0.00   \n",
       "tot_coll_amt                396009.0  1.919135e+02  1.463021e+04      0.00   \n",
       "tot_cur_bal                 396009.0  1.388017e+05  1.521147e+05      0.00   \n",
       "total_rev_hi_lim            396009.0  3.037909e+04  3.724713e+04      0.00   \n",
       "\n",
       "                                     25%           50%           75%   \n",
       "Unnamed: 0                  1.165710e+05  2.331420e+05  3.497130e+05  \\\n",
       "id                          3.639987e+06  1.010790e+07  2.073121e+07   \n",
       "member_id                   4.379705e+06  1.194108e+07  2.300154e+07   \n",
       "loan_amnt                   8.000000e+03  1.200000e+04  2.000000e+04   \n",
       "funded_amnt                 8.000000e+03  1.200000e+04  2.000000e+04   \n",
       "funded_amnt_inv             8.000000e+03  1.200000e+04  1.995000e+04   \n",
       "int_rate                    1.099000e+01  1.366000e+01  1.649000e+01   \n",
       "installment                 2.566900e+02  3.798900e+02  5.665800e+02   \n",
       "annual_inc                  4.500000e+04  6.300000e+04  8.896000e+04   \n",
       "dti                         1.136000e+01  1.687000e+01  2.278000e+01   \n",
       "delinq_2yrs                 0.000000e+00  0.000000e+00  0.000000e+00   \n",
       "inq_last_6mths              0.000000e+00  0.000000e+00  1.000000e+00   \n",
       "open_acc                    8.000000e+00  1.000000e+01  1.400000e+01   \n",
       "pub_rec                     0.000000e+00  0.000000e+00  0.000000e+00   \n",
       "revol_bal                   6.413000e+03  1.176400e+04  2.033300e+04   \n",
       "revol_util                  3.920000e+01  5.760000e+01  7.470000e+01   \n",
       "total_acc                   1.700000e+01  2.300000e+01  3.200000e+01   \n",
       "out_prncp                   0.000000e+00  4.414700e+02  7.341650e+03   \n",
       "out_prncp_inv               0.000000e+00  4.413800e+02  7.338390e+03   \n",
       "total_pymnt                 5.552125e+03  9.419251e+03  1.530816e+04   \n",
       "total_pymnt_inv             5.499250e+03  9.355430e+03  1.523131e+04   \n",
       "total_rec_prncp             3.708560e+03  6.817760e+03  1.200000e+04   \n",
       "total_rec_int               9.572800e+02  1.818880e+03  3.304530e+03   \n",
       "total_rec_late_fee          0.000000e+00  0.000000e+00  0.000000e+00   \n",
       "recoveries                  0.000000e+00  0.000000e+00  0.000000e+00   \n",
       "collection_recovery_fee     0.000000e+00  0.000000e+00  0.000000e+00   \n",
       "last_pymnt_amnt             3.126200e+02  5.459600e+02  3.187510e+03   \n",
       "collections_12_mths_ex_med  0.000000e+00  0.000000e+00  0.000000e+00   \n",
       "policy_code                 1.000000e+00  1.000000e+00  1.000000e+00   \n",
       "acc_now_delinq              0.000000e+00  0.000000e+00  0.000000e+00   \n",
       "tot_coll_amt                0.000000e+00  0.000000e+00  0.000000e+00   \n",
       "tot_cur_bal                 2.861800e+04  8.153900e+04  2.089530e+05   \n",
       "total_rev_hi_lim            1.350000e+04  2.280000e+04  3.790000e+04   \n",
       "\n",
       "                                     max  \n",
       "Unnamed: 0                  4.662840e+05  \n",
       "id                          3.809811e+07  \n",
       "member_id                   4.086083e+07  \n",
       "loan_amnt                   3.500000e+04  \n",
       "funded_amnt                 3.500000e+04  \n",
       "funded_amnt_inv             3.500000e+04  \n",
       "int_rate                    2.606000e+01  \n",
       "installment                 1.409990e+03  \n",
       "annual_inc                  7.500000e+06  \n",
       "dti                         3.999000e+01  \n",
       "delinq_2yrs                 2.900000e+01  \n",
       "inq_last_6mths              3.300000e+01  \n",
       "open_acc                    8.400000e+01  \n",
       "pub_rec                     6.300000e+01  \n",
       "revol_bal                   2.568995e+06  \n",
       "revol_util                  8.923000e+02  \n",
       "total_acc                   1.560000e+02  \n",
       "out_prncp                   3.216038e+04  \n",
       "out_prncp_inv               3.216038e+04  \n",
       "total_pymnt                 5.777758e+04  \n",
       "total_pymnt_inv             5.777758e+04  \n",
       "total_rec_prncp             3.500003e+04  \n",
       "total_rec_int               2.420562e+04  \n",
       "total_rec_late_fee          3.586800e+02  \n",
       "recoveries                  3.352027e+04  \n",
       "collection_recovery_fee     7.002190e+03  \n",
       "last_pymnt_amnt             3.623444e+04  \n",
       "collections_12_mths_ex_med  2.000000e+01  \n",
       "policy_code                 1.000000e+00  \n",
       "acc_now_delinq              5.000000e+00  \n",
       "tot_coll_amt                9.152545e+06  \n",
       "tot_cur_bal                 8.000078e+06  \n",
       "total_rev_hi_lim            9.999999e+06  "
      ]
     },
     "execution_count": 11,
     "metadata": {},
     "output_type": "execute_result"
    }
   ],
   "source": [
    "# explore numerical columns\n",
    "lc[lc_num].describe().T"
   ]
  },
  {
   "cell_type": "code",
   "execution_count": 12,
   "id": "704b3d1b",
   "metadata": {},
   "outputs": [
    {
     "data": {
      "text/plain": [
       "(466285, 40)"
      ]
     },
     "execution_count": 12,
     "metadata": {},
     "output_type": "execute_result"
    }
   ],
   "source": [
    "# remove identity columns\n",
    "lc.drop(['Unnamed: 0','id','member_id'], axis=1, inplace=True)\n",
    "lc.shape"
   ]
  },
  {
   "cell_type": "code",
   "execution_count": 13,
   "id": "20935b4b",
   "metadata": {},
   "outputs": [
    {
     "data": {
      "text/plain": [
       "loan_status\n",
       "Current                                                0.480878\n",
       "Fully Paid                                             0.396193\n",
       "Charged Off                                            0.091092\n",
       "Late (31-120 days)                                     0.014798\n",
       "In Grace Period                                        0.006747\n",
       "Does not meet the credit policy. Status:Fully Paid     0.004263\n",
       "Late (16-30 days)                                      0.002612\n",
       "Default                                                0.001784\n",
       "Does not meet the credit policy. Status:Charged Off    0.001632\n",
       "Name: proportion, dtype: float64"
      ]
     },
     "execution_count": 13,
     "metadata": {},
     "output_type": "execute_result"
    }
   ],
   "source": [
    "# define target label\n",
    "lc['loan_status'].value_counts(normalize=True)"
   ]
  },
  {
   "cell_type": "code",
   "execution_count": 14,
   "id": "93042bdd",
   "metadata": {},
   "outputs": [
    {
     "data": {
      "text/plain": [
       "loan_status\n",
       "0    0.888081\n",
       "1    0.111919\n",
       "Name: proportion, dtype: float64"
      ]
     },
     "execution_count": 14,
     "metadata": {},
     "output_type": "execute_result"
    }
   ],
   "source": [
    "# assume charged off, Late (31-120 days), Late (16-30 days), Default, and-\n",
    "# Does not meet the credit policy. Status:Charged Off as BAD BORROWERS\n",
    "lc['loan_status'] = np.where(lc.loc[:,'loan_status'].isin\n",
    "                               (['Charged Off','Default','Late (31-120 days)','Late (16-30 days)',\n",
    "                                'Does not meet the credit policy. Status:Charged Off'\n",
    "                                ]),1,0)\n",
    "\n",
    "lc['loan_status'].value_counts(normalize=True)"
   ]
  },
  {
   "cell_type": "code",
   "execution_count": 15,
   "id": "c046ac79",
   "metadata": {},
   "outputs": [],
   "source": [
    "# okay, target label has been defined!"
   ]
  },
  {
   "cell_type": "code",
   "execution_count": 16,
   "id": "5286aa85",
   "metadata": {},
   "outputs": [
    {
     "data": {
      "text/plain": [
       "0    0\n",
       "1    1\n",
       "2    0\n",
       "3    0\n",
       "4    0\n",
       "Name: loan_status, dtype: int32"
      ]
     },
     "execution_count": 16,
     "metadata": {},
     "output_type": "execute_result"
    }
   ],
   "source": [
    "lc['loan_status'].head()"
   ]
  },
  {
   "cell_type": "code",
   "execution_count": 17,
   "id": "bac48ac0",
   "metadata": {},
   "outputs": [],
   "source": [
    "# split data into training and testing set\n",
    "X = lc.drop('loan_status', axis=1)\n",
    "y = lc['loan_status']\n",
    "\n",
    "X_train, X_test, y_train, y_test = train_test_split(X,y,test_size=0.2,random_state=0,stratify=y)"
   ]
  },
  {
   "cell_type": "code",
   "execution_count": 18,
   "id": "16fa15eb",
   "metadata": {},
   "outputs": [
    {
     "data": {
      "text/plain": [
       "((373028, 39), (93257, 39))"
      ]
     },
     "execution_count": 18,
     "metadata": {},
     "output_type": "execute_result"
    }
   ],
   "source": [
    "X_train.shape, X_test.shape"
   ]
  },
  {
   "cell_type": "code",
   "execution_count": 19,
   "id": "d697e2d7",
   "metadata": {},
   "outputs": [
    {
     "data": {
      "text/plain": [
       "loan_status\n",
       "0    0.888081\n",
       "1    0.111919\n",
       "Name: proportion, dtype: float64"
      ]
     },
     "execution_count": 19,
     "metadata": {},
     "output_type": "execute_result"
    }
   ],
   "source": [
    "y_train.value_counts(normalize=True)"
   ]
  },
  {
   "cell_type": "code",
   "execution_count": 20,
   "id": "3efa3dbd",
   "metadata": {},
   "outputs": [
    {
     "data": {
      "text/plain": [
       "loan_status\n",
       "0    0.888083\n",
       "1    0.111917\n",
       "Name: proportion, dtype: float64"
      ]
     },
     "execution_count": 20,
     "metadata": {},
     "output_type": "execute_result"
    }
   ],
   "source": [
    "y_test.value_counts(normalize=True)"
   ]
  },
  {
   "cell_type": "code",
   "execution_count": 21,
   "id": "374e398c",
   "metadata": {},
   "outputs": [],
   "source": [
    "# conduct some data cleaning\n",
    "cat = X_train.select_dtypes(include=['object']).columns\n",
    "num = X_train.select_dtypes(include=['float64','int64']).columns"
   ]
  },
  {
   "cell_type": "code",
   "execution_count": 22,
   "id": "9bb32d06",
   "metadata": {},
   "outputs": [
    {
     "name": "stdout",
     "output_type": "stream",
     "text": [
      "term  ----------->  2\n",
      "[' 36 months' ' 60 months']\n",
      "\n",
      "grade  ----------->  7\n",
      "['C' 'D' 'B' 'A' 'F' 'E' 'G']\n",
      "\n",
      "sub_grade  ----------->  35\n",
      "['C1' 'C4' 'D4' 'B3' 'B2' 'D2' 'D3' 'D1' 'C2' 'C3' 'A1' 'A5' 'C5' 'B1'\n",
      " 'B4' 'D5' 'F3' 'A4' 'B5' 'E2' 'A3' 'A2' 'E4' 'E1' 'E5' 'E3' 'F2' 'F5'\n",
      " 'G1' 'G5' 'F1' 'G2' 'F4' 'G3' 'G4']\n",
      "\n",
      "emp_length  ----------->  11\n",
      "['9 years' '2 years' '10+ years' '8 years' '7 years' '< 1 year' '1 year'\n",
      " '3 years' '6 years' '4 years' '5 years' nan]\n",
      "\n",
      "home_ownership  ----------->  6\n",
      "['OWN' 'MORTGAGE' 'RENT' 'OTHER' 'NONE' 'ANY']\n",
      "\n",
      "verification_status  ----------->  3\n",
      "['Verified' 'Not Verified' 'Source Verified']\n",
      "\n",
      "purpose  ----------->  14\n",
      "['debt_consolidation' 'other' 'house' 'credit_card' 'medical'\n",
      " 'major_purchase' 'car' 'home_improvement' 'vacation' 'small_business'\n",
      " 'wedding' 'moving' 'educational' 'renewable_energy']\n",
      "\n",
      "addr_state  ----------->  50\n",
      "['FL' 'KY' 'NY' 'NJ' 'OH' 'AZ' 'IL' 'CA' 'WA' 'MN' 'SC' 'WI' 'OR' 'MD'\n",
      " 'TN' 'PA' 'GA' 'TX' 'VA' 'AL' 'CO' 'MA' 'WY' 'OK' 'CT' 'NV' 'AR' 'NM'\n",
      " 'NH' 'IN' 'KS' 'MS' 'MI' 'UT' 'NC' 'HI' 'DE' 'MO' 'MT' 'LA' 'SD' 'WV'\n",
      " 'RI' 'DC' 'AK' 'VT' 'ME' 'NE' 'ID' 'IA']\n",
      "\n",
      "initial_list_status  ----------->  2\n",
      "['f' 'w']\n",
      "\n"
     ]
    }
   ],
   "source": [
    "for col in cat:\n",
    "    print(col, ' -----------> ', X_train[col].nunique())\n",
    "    print(X_train[col].unique())\n",
    "    print()"
   ]
  },
  {
   "cell_type": "code",
   "execution_count": 23,
   "id": "57366814",
   "metadata": {},
   "outputs": [],
   "source": [
    "# clean column which consist number and change it's data type\n",
    "X_train['term'] = pd.to_numeric(X_train['term'].str.replace(' months', ''))\n",
    "\n",
    "X_train['emp_length'] = X_train['emp_length'].str.replace(' years', '')\n",
    "X_train['emp_length'] = X_train['emp_length'].str.replace(' year', '')\n",
    "X_train['emp_length'] = X_train['emp_length'].str.replace('+', '')\n",
    "X_train['emp_length'] = X_train['emp_length'].str.replace('< 1', '0')\n",
    "X_train['emp_length'].fillna(value=0, inplace=True)\n",
    "X_train['emp_length'] = pd.to_numeric(X_train['emp_length'])"
   ]
  },
  {
   "cell_type": "code",
   "execution_count": 24,
   "id": "9bd17591",
   "metadata": {},
   "outputs": [
    {
     "name": "stdout",
     "output_type": "stream",
     "text": [
      "<class 'pandas.core.frame.DataFrame'>\n",
      "Index: 373028 entries, 120814 to 397161\n",
      "Data columns (total 2 columns):\n",
      " #   Column      Non-Null Count   Dtype\n",
      "---  ------      --------------   -----\n",
      " 0   term        373028 non-null  int64\n",
      " 1   emp_length  373028 non-null  int64\n",
      "dtypes: int64(2)\n",
      "memory usage: 8.5 MB\n"
     ]
    }
   ],
   "source": [
    "X_train[['term', 'emp_length']].info()"
   ]
  },
  {
   "cell_type": "code",
   "execution_count": 25,
   "id": "4b0f6f53",
   "metadata": {
    "scrolled": true
   },
   "outputs": [
    {
     "data": {
      "text/plain": [
       "term                   0\n",
       "grade                  0\n",
       "sub_grade              0\n",
       "emp_length             0\n",
       "home_ownership         0\n",
       "verification_status    0\n",
       "purpose                0\n",
       "addr_state             0\n",
       "initial_list_status    0\n",
       "dtype: int64"
      ]
     },
     "execution_count": 25,
     "metadata": {},
     "output_type": "execute_result"
    }
   ],
   "source": [
    "X_train[cat].isnull().sum()"
   ]
  },
  {
   "cell_type": "code",
   "execution_count": 26,
   "id": "19b31875",
   "metadata": {},
   "outputs": [],
   "source": [
    "# conduct the same data cleaning for testing set too"
   ]
  },
  {
   "cell_type": "code",
   "execution_count": 27,
   "id": "eb474f69",
   "metadata": {},
   "outputs": [],
   "source": [
    "# clean column which consist number and change it's data type\n",
    "X_test['term'] = pd.to_numeric(X_test['term'].str.replace(' months', ''))\n",
    "\n",
    "X_test['emp_length'] = X_test['emp_length'].str.replace(' years', '')\n",
    "X_test['emp_length'] = X_test['emp_length'].str.replace(' year', '')\n",
    "X_test['emp_length'] = X_test['emp_length'].str.replace('+', '')\n",
    "X_test['emp_length'] = X_test['emp_length'].str.replace('< 1', '0')\n",
    "X_test['emp_length'].fillna(value=0, inplace=True)\n",
    "X_test['emp_length'] = pd.to_numeric(X_test['emp_length'])"
   ]
  },
  {
   "cell_type": "code",
   "execution_count": 28,
   "id": "c8e098a8",
   "metadata": {},
   "outputs": [
    {
     "name": "stdout",
     "output_type": "stream",
     "text": [
      "<class 'pandas.core.frame.DataFrame'>\n",
      "Index: 93257 entries, 124850 to 175867\n",
      "Data columns (total 2 columns):\n",
      " #   Column      Non-Null Count  Dtype\n",
      "---  ------      --------------  -----\n",
      " 0   term        93257 non-null  int64\n",
      " 1   emp_length  93257 non-null  int64\n",
      "dtypes: int64(2)\n",
      "memory usage: 2.1 MB\n"
     ]
    }
   ],
   "source": [
    "X_test[['term', 'emp_length']].info()"
   ]
  },
  {
   "cell_type": "code",
   "execution_count": 29,
   "id": "c84e7270",
   "metadata": {},
   "outputs": [
    {
     "data": {
      "text/plain": [
       "term                   0\n",
       "grade                  0\n",
       "sub_grade              0\n",
       "emp_length             0\n",
       "home_ownership         0\n",
       "verification_status    0\n",
       "purpose                0\n",
       "addr_state             0\n",
       "initial_list_status    0\n",
       "dtype: int64"
      ]
     },
     "execution_count": 29,
     "metadata": {},
     "output_type": "execute_result"
    }
   ],
   "source": [
    "X_test[cat].isnull().sum()"
   ]
  },
  {
   "cell_type": "code",
   "execution_count": 30,
   "id": "f9b59a30",
   "metadata": {
    "scrolled": true
   },
   "outputs": [
    {
     "data": {
      "text/plain": [
       "annual_inc                        3\n",
       "delinq_2yrs                      25\n",
       "inq_last_6mths                   25\n",
       "open_acc                         25\n",
       "pub_rec                          25\n",
       "revol_util                      269\n",
       "total_acc                        25\n",
       "collections_12_mths_ex_med      117\n",
       "acc_now_delinq                   25\n",
       "tot_coll_amt                  56210\n",
       "tot_cur_bal                   56210\n",
       "total_rev_hi_lim              56210\n",
       "dtype: int64"
      ]
     },
     "execution_count": 30,
     "metadata": {},
     "output_type": "execute_result"
    }
   ],
   "source": [
    "# handle missing values in numerical column\n",
    "num_miss = X_train[num].isnull().sum()[X_train[num].isnull().sum()>0]\n",
    "num_miss"
   ]
  },
  {
   "cell_type": "code",
   "execution_count": 31,
   "id": "2b2c4b7b",
   "metadata": {},
   "outputs": [],
   "source": [
    "X_train[num_miss.index] = X_train[num_miss.index].fillna(X_train[num_miss.index].median())"
   ]
  },
  {
   "cell_type": "code",
   "execution_count": 32,
   "id": "c4c522a8",
   "metadata": {},
   "outputs": [
    {
     "data": {
      "text/plain": [
       "Series([], dtype: int64)"
      ]
     },
     "execution_count": 32,
     "metadata": {},
     "output_type": "execute_result"
    }
   ],
   "source": [
    "num_miss = X_train[num].isnull().sum()[X_train[num].isnull().sum()>0]\n",
    "num_miss"
   ]
  },
  {
   "cell_type": "code",
   "execution_count": 33,
   "id": "5ca9ef68",
   "metadata": {},
   "outputs": [
    {
     "data": {
      "text/plain": [
       "annual_inc                        1\n",
       "delinq_2yrs                       4\n",
       "inq_last_6mths                    4\n",
       "open_acc                          4\n",
       "pub_rec                           4\n",
       "revol_util                       71\n",
       "total_acc                         4\n",
       "collections_12_mths_ex_med       28\n",
       "acc_now_delinq                    4\n",
       "tot_coll_amt                  14066\n",
       "tot_cur_bal                   14066\n",
       "total_rev_hi_lim              14066\n",
       "dtype: int64"
      ]
     },
     "execution_count": 33,
     "metadata": {},
     "output_type": "execute_result"
    }
   ],
   "source": [
    "num_miss = X_test[num].isnull().sum()[X_test[num].isnull().sum()>0]\n",
    "num_miss"
   ]
  },
  {
   "cell_type": "code",
   "execution_count": 34,
   "id": "0bc6182a",
   "metadata": {},
   "outputs": [],
   "source": [
    "X_test[num_miss.index] = X_test[num_miss.index].fillna(X_test[num_miss.index].median())"
   ]
  },
  {
   "cell_type": "code",
   "execution_count": 35,
   "id": "549529e2",
   "metadata": {},
   "outputs": [
    {
     "data": {
      "text/plain": [
       "Series([], dtype: int64)"
      ]
     },
     "execution_count": 35,
     "metadata": {},
     "output_type": "execute_result"
    }
   ],
   "source": [
    "num_miss = X_test[num].isnull().sum()[X_test[num].isnull().sum()>0]\n",
    "num_miss"
   ]
  },
  {
   "cell_type": "code",
   "execution_count": 36,
   "id": "ed0886f9",
   "metadata": {},
   "outputs": [],
   "source": [
    "cat = X_train.select_dtypes(include=['object']).columns\n",
    "num = X_train.select_dtypes(include=['float64','int64']).columns"
   ]
  },
  {
   "cell_type": "code",
   "execution_count": 37,
   "id": "1413b489",
   "metadata": {},
   "outputs": [],
   "source": [
    "# feature encoding\n",
    "encoder = LabelEncoder()\n",
    "for col in cat:\n",
    "    encoder.fit(X_train[col].unique())\n",
    "    X_train[col] = encoder.transform(X_train[col])\n",
    "    X_test[col] = encoder.transform(X_test[col])"
   ]
  },
  {
   "cell_type": "code",
   "execution_count": 38,
   "id": "2a1d9d3f",
   "metadata": {},
   "outputs": [],
   "source": [
    "# feature scaling\n",
    "scaler = StandardScaler()\n",
    "for col in num:\n",
    "    X_train = scaler.fit_transform(X_train)\n",
    "    X_test = scaler.fit_transform(X_test)"
   ]
  },
  {
   "cell_type": "code",
   "execution_count": 39,
   "id": "ebb4ed5a",
   "metadata": {
    "scrolled": true
   },
   "outputs": [
    {
     "name": "stdout",
     "output_type": "stream",
     "text": [
      "model : DecisionTreeClassifier\n",
      "accuracy score : % 95.39\n",
      "f1 score : % 95.39\n",
      "precision score : % 95.39\n",
      "recall score : % 95.39\n",
      "\n"
     ]
    }
   ],
   "source": [
    "# decision tree classifier model\n",
    "dtree = DecisionTreeClassifier()\n",
    "dtree.fit(X_train, y_train)\n",
    "dtree_preds = dtree.predict(X_test)\n",
    "print('model : DecisionTreeClassifier')\n",
    "print('accuracy score : %', round(accuracy_score(y_test,dtree_preds)*100,2)) \n",
    "print('f1 score : %', round(f1_score(y_test,dtree_preds,average='micro')*100,2))\n",
    "print('precision score : %', round(precision_score(y_test,dtree_preds,average='micro')*100,2))\n",
    "print('recall score : %', round(recall_score(y_test,dtree_preds,average='micro')*100,2))\n",
    "print()"
   ]
  },
  {
   "cell_type": "code",
   "execution_count": 40,
   "id": "a0bd8d98",
   "metadata": {},
   "outputs": [
    {
     "data": {
      "text/plain": [
       "<Axes: ylabel='feature'>"
      ]
     },
     "execution_count": 40,
     "metadata": {},
     "output_type": "execute_result"
    },
    {
     "data": {
      "image/png": "[encoded data removed]",
      "text/plain": [
       "<Figure size 1000x600 with 1 Axes>"
      ]
     },
     "metadata": {},
     "output_type": "display_data"
    }
   ],
   "source": [
    "# feature importance of decision tree classifier model\n",
    "dtree_fi = pd.DataFrame({'feature' : X.columns, 'importance' : dtree.feature_importances_})\n",
    "dtree_fi = dtree_fi.sort_values('importance', ascending=True)\n",
    "dtree_fi = dtree_fi.tail(10)\n",
    "dtree_fi.plot(x='feature', y='importance', kind='barh', figsize=(10, 6))"
   ]
  },
  {
   "cell_type": "code",
   "execution_count": 41,
   "id": "f7f9572f",
   "metadata": {},
   "outputs": [
    {
     "name": "stdout",
     "output_type": "stream",
     "text": [
      "model : LinerRegression\n",
      "accuracy score : % 97.88\n",
      "f1 score : % 97.88\n",
      "precision score : % 97.88\n",
      "recall score : % 97.88\n",
      "\n"
     ]
    }
   ],
   "source": [
    "# logistic regression model\n",
    "logreg = LogisticRegression()\n",
    "logreg.fit(X_train, y_train)\n",
    "logreg_preds = logreg.predict(X_test)\n",
    "print('model : LinerRegression')\n",
    "print('accuracy score : %', round(accuracy_score(y_test,logreg_preds)*100,2)) \n",
    "print('f1 score : %', round(f1_score(y_test,logreg_preds,average='micro')*100,2))\n",
    "print('precision score : %', round(precision_score(y_test,logreg_preds,average='micro')*100,2))\n",
    "print('recall score : %', round(recall_score(y_test,logreg_preds,average='micro')*100,2))\n",
    "print()"
   ]
  },
  {
   "cell_type": "code",
   "execution_count": 42,
   "id": "65b80dac",
   "metadata": {},
   "outputs": [
    {
     "data": {
      "text/plain": [
       "<Axes: ylabel='Feature'>"
      ]
     },
     "execution_count": 42,
     "metadata": {},
     "output_type": "execute_result"
    },
    {
     "data": {
      "image/png": "[encoded data removed]",
      "text/plain": [
       "<Figure size 1000x600 with 1 Axes>"
      ]
     },
     "metadata": {},
     "output_type": "display_data"
    }
   ],
   "source": [
    "# feature importance of logistic regression model\n",
    "logreg_fi = pd.DataFrame({'Feature': X.columns, 'Importance': np.abs(logreg.coef_[0])})\n",
    "logreg_fi = logreg_fi.sort_values('Importance', ascending=True)\n",
    "logreg_fi = logreg_fi.tail(10)\n",
    "logreg_fi.plot(x='Feature', y='Importance', kind='barh', figsize=(10, 6))"
   ]
  }
 ],
 "metadata": {
  "kernelspec": {
   "display_name": "Python 3 (ipykernel)",
   "language": "python",
   "name": "python3"
  },
  "language_info": {
   "codemirror_mode": {
    "name": "ipython",
    "version": 3
   },
   "file_extension": ".py",
   "mimetype": "text/x-python",
   "name": "python",
   "nbconvert_exporter": "python",
   "pygments_lexer": "ipython3",
   "version": "3.11.3"
  }
 },
 "nbformat": 4,
 "nbformat_minor": 5
}
